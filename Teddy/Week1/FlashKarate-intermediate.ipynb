{
 "cells": [
  {
   "cell_type": "markdown",
   "metadata": {
    "collapsed": false,
    "id": "jQu4NqtgVF8l"
   },
   "source": [
    "# Build a Flashcard Game! \n",
    "\n",
    "We will be building a flashcard guessing game where users can guess fighting stances in Karate.\n",
    "\n",
    "> Here are the rules:\n",
    "\n",
    "* The user will be given the name of a fighting stance and will have to guess its definition/description.\n",
    "* Each time the user guesses the description right, the user gets a point.\n",
    "* The game will continue until there are no more stance descriptions left to guess.\n",
    "* After running out of stances, the user will see how many points they earn and will be asked if they want to play again!\n",
    "\n",
    "You can think of this as having the front of the flash card being a fighting stance and the back of the flash card being it's description. Let's get started.\n",
    "\n"
   ]
  },
  {
   "cell_type": "markdown",
   "metadata": {
    "collapsed": false,
    "id": "cuw7LZy3VF8q"
   },
   "source": [
    "## The Stances!\n",
    "\n",
    "Here are the stances:\n",
    "\n",
    "* Shezentai: Natural Stance\n",
    "* Choku-Zuki: Straight Punch\n",
    "* Oi-Zuki: Front Lunge Punch\n",
    "* Gyaku-Zuki: Reverse Punch\n",
    "* Gedan Barai: Down Block\n",
    "* Age-Uke: Rising Block\n",
    "\n",
    "If you're curious here are some photos of the stances. \n",
    "<br>\n",
    "<br>\n",
    "\n",
    "<center />\n",
    "<img src=\"https://globalmartialarts.university/wp-content/uploads/2021/01/Shotokan-Beginners-Guide-Infographic-2.jpg\" width=560 height=660 />\n",
    "\n"
   ]
  },
  {
   "cell_type": "markdown",
   "metadata": {
    "collapsed": false,
    "id": "RHa0Vb_rXjQr"
   },
   "source": [
    "## Some python help\n",
    "\n",
    "Here is some python code that might help you on your journey! Mainly you should have a good idea of how dictionaries function, since they work pretty similar to flashcards."
   ]
  },
  {
   "cell_type": "markdown",
   "metadata": {
    "collapsed": false,
    "id": "yr1mQTCVfmhM"
   },
   "source": [
    "### Dictionaries Review"
   ]
  },
  {
   "cell_type": "code",
   "execution_count": 0,
   "metadata": {
    "collapsed": false,
    "id": "3x-2-EJ4Xi7t"
   },
   "outputs": [
   ],
   "source": [
    "# create a dictionary with key value pairs. I'm just going to use some words and defintions \n",
    "my_dictionary = {\"dog\": \"a domesticated carnivorous mammal that typically has a long snout\",\n",
    "                 \"cat\": \"a small domesticated carnivorous mammal with soft fur\",\n",
    "                 \"bunny\": \"a rabbit, especially a young one.\",\n",
    "                 \"timberwolves\": \"wolves of a large variety found mainly in northern North America, with gray brindled fur.\"\n",
    "                 }"
   ]
  },
  {
   "cell_type": "code",
   "execution_count": 0,
   "metadata": {
    "colab": {
     "base_uri": "https://localhost:8080/"
    },
    "collapsed": false,
    "id": "dzYfo-ciVF8r",
    "outputId": "ffd2aefa-ce80-465b-c86e-eeb4dce7fcd3"
   },
   "outputs": [
    {
     "name": "stdout",
     "output_type": "stream",
     "text": [
      "a dog is... a domesticated carnivorous mammal that typically has a long snout\n"
     ]
    }
   ],
   "source": [
    "# access the value from a dictionary key\n",
    "print(\"a dog is...\", my_dictionary[\"dog\"])"
   ]
  },
  {
   "cell_type": "code",
   "execution_count": 0,
   "metadata": {
    "colab": {
     "base_uri": "https://localhost:8080/"
    },
    "collapsed": false,
    "id": "OZPVqiR8Yzxk",
    "outputId": "4bcfef45-cc37-409b-c87d-76d12e805c8a"
   },
   "outputs": [
    {
     "name": "stdout",
     "output_type": "stream",
     "text": [
      "['dog', 'cat', 'bunny', 'timberwolves']\n"
     ]
    }
   ],
   "source": [
    "#access all of the keys and store as a list\n",
    "animals = list(my_dictionary.keys())\n",
    "print(animals)"
   ]
  },
  {
   "cell_type": "code",
   "execution_count": 0,
   "metadata": {
    "colab": {
     "base_uri": "https://localhost:8080/"
    },
    "collapsed": false,
    "id": "vetkiJW3ea8T",
    "outputId": "88eeccc4-5786-46d4-db6b-335a4347247c"
   },
   "outputs": [
    {
     "name": "stdout",
     "output_type": "stream",
     "text": [
      "dict_values(['a domesticated carnivorous mammal that typically has a long snout', 'a small domesticated carnivorous mammal with soft fur', 'a rabbit, especially a young one.', 'wolves of a large variety found mainly in northern North America, with gray brindled fur.'])\n"
     ]
    }
   ],
   "source": [
    "# print the values of a dictionary\n",
    "print(my_dictionary.values())"
   ]
  },
  {
   "cell_type": "code",
   "execution_count": 0,
   "metadata": {
    "colab": {
     "base_uri": "https://localhost:8080/"
    },
    "collapsed": false,
    "id": "iWans4X-Y9qL",
    "outputId": "ecf572ad-6727-4b73-8495-e5065acac24b"
   },
   "outputs": [
    {
     "name": "stdout",
     "output_type": "stream",
     "text": [
      "dog:  a domesticated carnivorous mammal that typically has a long snout\n",
      "cat:  a small domesticated carnivorous mammal with soft fur\n",
      "bunny:  a rabbit, especially a young one.\n",
      "timberwolves:  wolves of a large variety found mainly in northern North America, with gray brindled fur.\n"
     ]
    }
   ],
   "source": [
    "# you can use these keys to access the dictionary\n",
    "for i in animals:\n",
    "  print(i + \": \", my_dictionary[i])"
   ]
  },
  {
   "cell_type": "code",
   "execution_count": 0,
   "metadata": {
    "collapsed": false,
    "id": "Dj_Cw7cefe-H"
   },
   "outputs": [
   ],
   "source": [
    "'''\n",
    "your code here: create a dictionary with a few words from a different language (use google translate as needed) and their translation!\n",
    "'''"
   ]
  },
  {
   "cell_type": "markdown",
   "metadata": {
    "collapsed": false,
    "id": "wDh9B_Prfkgr"
   },
   "source": [
    "### String Formatting\n",
    "Change the code below to see how you can format strings."
   ]
  },
  {
   "cell_type": "code",
   "execution_count": 3,
   "metadata": {
    "colab": {
     "base_uri": "https://localhost:8080/"
    },
    "collapsed": false,
    "id": "nj56EG_0fpHN",
    "outputId": "cbfdf989-708e-4b36-b5f3-8f7760e47c76"
   },
   "outputs": [
    {
     "name": "stdout",
     "output_type": "stream",
     "text": [
      "We are the knights who say \"eggs!\"\n"
     ]
    }
   ],
   "source": [
    "# Basic usage of the str.format() method looks like this:\n",
    "print('We are the {} who say \"{}!\"'.format('knights', 'Ni'))"
   ]
  },
  {
   "cell_type": "code",
   "execution_count": 0,
   "metadata": {
    "collapsed": false,
    "id": "tbZG23SufsPA"
   },
   "outputs": [
   ],
   "source": [
    "# A number in the brackets can be used to refer to the position of the object passed into the str.format() method.\n",
    "print('{0} and {1}'.format('spam', 'eggs'))"
   ]
  },
  {
   "cell_type": "code",
   "execution_count": 0,
   "metadata": {
    "colab": {
     "base_uri": "https://localhost:8080/"
    },
    "collapsed": false,
    "id": "zM8v0k_Wf0hr",
    "outputId": "9b19dcfe-f873-4947-8b8a-8caaf0ff9187"
   },
   "outputs": [
    {
     "name": "stdout",
     "output_type": "stream",
     "text": [
      "eggs and spam\n"
     ]
    }
   ],
   "source": [
    "print('{1} and {0}'.format('spam', 'eggs'))"
   ]
  },
  {
   "cell_type": "code",
   "execution_count": 0,
   "metadata": {
    "colab": {
     "base_uri": "https://localhost:8080/"
    },
    "collapsed": false,
    "id": "WTuHIy5Wf6gg",
    "outputId": "33dc1f68-d3d1-41db-8abb-82fe710cec58"
   },
   "outputs": [
    {
     "name": "stdout",
     "output_type": "stream",
     "text": [
      "This spam is absolutely horrible.\n"
     ]
    }
   ],
   "source": [
    "# If keyword arguments are used in the str.format() method, their values are referred to by using the name of the argument.\n",
    "print('This {food} is {adjective}.'.format(food='spam', adjective='absolutely horrible'))"
   ]
  },
  {
   "cell_type": "code",
   "execution_count": 0,
   "metadata": {
    "collapsed": false
   },
   "outputs": [
   ],
   "source": [
   ]
  },
  {
   "cell_type": "code",
   "execution_count": 6,
   "metadata": {
    "collapsed": false
   },
   "outputs": [
    {
     "name": "stdout",
     "output_type": "stream",
     "text": [
      "The cat sat on the hat\n"
     ]
    }
   ],
   "source": [
    "# F-strings can be used for easy string formatting\n",
    "animal = \"cat\"\n",
    "clothing = \"hat\"\n",
    "\n",
    "print(f\"The {animal} {'sat'} on the {clothing}\")"
   ]
  },
  {
   "cell_type": "code",
   "execution_count": 0,
   "metadata": {
    "collapsed": false,
    "id": "cVE5APVdfttS"
   },
   "outputs": [
   ],
   "source": [
    "'''\n",
    "your code here: experiment with string formatting\n",
    "'''"
   ]
  },
  {
   "cell_type": "markdown",
   "metadata": {
    "collapsed": false,
    "id": "HxiI3weuVF8t"
   },
   "source": [
    "## Task 1: Create the Flashcards \n",
    "\n",
    "In this section you should create your flashcards using a dictionary that includes each karate stance (key) and its definition (value).\n",
    "\n",
    "Experiment by using some dictionary functions and save the keys of the dictionary in a list.\n",
    "\n"
   ]
  },
  {
   "cell_type": "code",
   "execution_count": 0,
   "metadata": {
    "collapsed": false,
    "id": "hTUm1rPfVF8t"
   },
   "outputs": [
   ],
   "source": [
    "# create your flashcards with key: Karate Stance and value: description\n",
    "karateMoves = {\n",
    "    \"Shizentai\":\"Natural Stance\"\n",
    "    \"Choku-Zuki\":\"Straight Stance\"\n",
    "    \"Oi-Zuki\":\"Front Lunge Punch\"\n",
    "    \"Gyaku-Zuki\":\"Reverse Punch\"\n",
    "    \"Gedan Barai\":\"Down Block\"\n",
    "    \"Age-Uke\":\"Rising Block\"\n",
    "}"
   ]
  },
  {
   "cell_type": "code",
   "execution_count": 0,
   "metadata": {
    "collapsed": false,
    "id": "wlY-h7eVVF8u"
   },
   "outputs": [
   ],
   "source": [
    "# print all the keys in your dictionary\n",
    "\n",
    "#----- CODE IS BELOW ------"
   ]
  },
  {
   "cell_type": "code",
   "execution_count": 0,
   "metadata": {
    "collapsed": false,
    "id": "PyOMxguiVF8v"
   },
   "outputs": [
   ],
   "source": [
    "#put all of the keys into a list so you have a \"deck\" of flashcards.\n",
    "\n",
    "keyList = list(karateMoves.keys())\n",
    "\n",
    "for x in keyList\n",
    "    print (x)"
   ]
  },
  {
   "cell_type": "markdown",
   "metadata": {
    "collapsed": false,
    "id": "acolMI3gVF8w"
   },
   "source": [
    "## Task 2: Shuffle the list \n",
    "\n",
    "At this point we have a \"deck\" of flashcards (a list of key values for our dictionary). Now you should do some research on how we can `shuffle()` this deck. \n",
    "\n",
    "We recommend checking out python's [`random` library](https://docs.python.org/3/library/random.html) to see how to shuffle a list! You also could google \"how to shuffle a list python\".\n",
    "\n"
   ]
  },
  {
   "cell_type": "code",
   "execution_count": 0,
   "metadata": {
    "collapsed": false,
    "id": "w-IuZlrVVF8x"
   },
   "outputs": [
   ],
   "source": [
    "# shuffle your deck of flashcards (list of keys) and print the new order! \n",
    "import random\n",
    "\n",
    "def shuffleList(list):\n",
    "    random.shuffle(list)\n",
    "    return list"
   ]
  },
  {
   "cell_type": "markdown",
   "metadata": {
    "collapsed": false,
    "id": "EL8bZ5XLVF8z"
   },
   "source": [
    "## Task 3: Set up the game\n",
    "\n",
    "Now here is where we set up the game!\n",
    "\n",
    "* Create a variable to keep track of how many guesses user has correct\n",
    "* Create a loop that:\n",
    "\n",
    "> 1. Goes through each word in the list of keys and print this word for the user to guess.\n",
    "\n",
    "2. Asks the user to `input` their answer (you might have to look up how to get input from a user in python).\n",
    "3. Checks whether their answer is right, and adds 1 to the variable for correct guesses \n",
    "4. Goes to the next word and repeats steps 1-3.\n",
    "\n",
    "* After the loop, print how many answers the users got correct and how many they got wrong.\n",
    "\n",
    "<br>\n",
    "\n",
    "Note: For repetitive tasks in python, we usually use a `while` or a `for` loop. `While` loops continue executing code in a loop until a certain condition is met, and `for` loops typically are used for iterating across a piece of data. \n",
    "\n",
    "> DISCUSS: Discuss with your team and instructor which type of loop would be better for this case.\n",
    "\n"
   ]
  },
  {
   "cell_type": "code",
   "execution_count": 0,
   "metadata": {
    "collapsed": false
   },
   "outputs": [
   ],
   "source": [
   ]
  },
  {
   "cell_type": "code",
   "execution_count": 0,
   "metadata": {
    "collapsed": false
   },
   "outputs": [
   ],
   "source": [
   ]
  },
  {
   "cell_type": "code",
   "execution_count": 0,
   "metadata": {
    "cocalc": {
     "outputs": {
      "1": {
       "name": "input",
       "opts": {
        "password": false,
        "prompt": "ANSWER: "
       },
       "output_type": "stream",
       "value": ""
      },
      "11": {
       "name": "input",
       "opts": {
        "password": false,
        "prompt": "ANSWER: "
       },
       "output_type": "stream",
       "value": ""
      },
      "3": {
       "name": "input",
       "opts": {
        "password": false,
        "prompt": "ANSWER: "
       },
       "output_type": "stream",
       "value": ""
      },
      "5": {
       "name": "input",
       "opts": {
        "password": false,
        "prompt": "ANSWER: "
       },
       "output_type": "stream",
       "value": ""
      },
      "7": {
       "name": "input",
       "opts": {
        "password": false,
        "prompt": "ANSWER: "
       },
       "output_type": "stream",
       "value": ""
      },
      "9": {
       "name": "input",
       "opts": {
        "password": false,
        "prompt": "ANSWER: "
       },
       "output_type": "stream",
       "value": ""
      }
     }
    },
    "collapsed": false,
    "id": "LAIfkxd4VF80"
   },
   "outputs": [
   ],
   "source": [
   ]
  },
  {
   "cell_type": "markdown",
   "metadata": {
    "collapsed": false,
    "id": "mYVCZ2RKVF80"
   },
   "source": [
    "## Task 4: Put everything together. \n",
    "\n",
    "Create an outer loop to ask the user if they want to play the game. If the answer is yes, keep running the program. Keep doing this until they enter something other than yes. \n",
    "\n",
    "Consolidate all of your other code inside of this loop!\n",
    "\n"
   ]
  },
  {
   "cell_type": "code",
   "execution_count": 16,
   "metadata": {
    "cocalc": {
     "outputs": {
      "0": {
       "name": "input",
       "opts": {
        "password": false,
        "prompt": "Would you like to play? (Yes/No)"
       },
       "output_type": "stream",
       "value": "yes"
      },
      "10": {
       "name": "input",
       "opts": {
        "password": false,
        "prompt": "Enter the description of the word -> "
       },
       "output_type": "stream",
       "value": "a"
      },
      "12": {
       "name": "input",
       "opts": {
        "password": false,
        "prompt": "Enter the description of the word -> "
       },
       "output_type": "stream",
       "value": "Down Block"
      },
      "14": {
       "name": "input",
       "opts": {
        "password": false,
        "prompt": "Would you like to play again? (Yes/No)"
       },
       "output_type": "stream",
       "value": "no"
      },
      "2": {
       "name": "input",
       "opts": {
        "password": false,
        "prompt": "Enter the description of the word -> "
       },
       "output_type": "stream",
       "value": "Reverse Punch"
      },
      "4": {
       "name": "input",
       "opts": {
        "password": false,
        "prompt": "Enter the description of the word -> "
       },
       "output_type": "stream",
       "value": "Straight Stance"
      },
      "6": {
       "name": "input",
       "opts": {
        "password": false,
        "prompt": "Enter the description of the word -> "
       },
       "output_type": "stream",
       "value": "Rising Block"
      },
      "8": {
       "name": "input",
       "opts": {
        "password": false,
        "prompt": "Enter the description of the word -> "
       },
       "output_type": "stream",
       "value": "h"
      }
     }
    },
    "collapsed": false,
    "id": "unJkdlnQVF81"
   },
   "outputs": [
    {
     "name": "stdout",
     "output_type": "stream",
     "text": "Would you like to play? (Yes/No) yes"
    },
    {
     "name": "stdout",
     "output_type": "stream",
     "text": [
      "Gyaku-Zuki\n"
     ]
    },
    {
     "name": "stdout",
     "output_type": "stream",
     "text": "Enter the description of the word ->  Reverse Punch"
    },
    {
     "name": "stdout",
     "output_type": "stream",
     "text": [
      "The answer is Reverse Punch\n",
      "________________________\n",
      "Choku-Zuki\n"
     ]
    },
    {
     "name": "stdout",
     "output_type": "stream",
     "text": "Enter the description of the word ->  Straight Stance"
    },
    {
     "name": "stdout",
     "output_type": "stream",
     "text": [
      "The answer is Straight Stance\n",
      "________________________\n",
      "Age-Uke\n"
     ]
    },
    {
     "name": "stdout",
     "output_type": "stream",
     "text": "Enter the description of the word ->  Rising Block"
    },
    {
     "name": "stdout",
     "output_type": "stream",
     "text": [
      "The answer is Rising Block\n",
      "________________________\n",
      "Oi-Zuki\n"
     ]
    },
    {
     "name": "stdout",
     "output_type": "stream",
     "text": "Enter the description of the word ->  h"
    },
    {
     "name": "stdout",
     "output_type": "stream",
     "text": [
      "The answer is Front Lunge Punch\n",
      "Your answer is incorrect\n",
      "________________________\n",
      "Shizentai\n"
     ]
    },
    {
     "name": "stdout",
     "output_type": "stream",
     "text": "Enter the description of the word ->  a"
    },
    {
     "name": "stdout",
     "output_type": "stream",
     "text": [
      "The answer is Natural Stance\n",
      "Your answer is incorrect\n",
      "________________________\n",
      "Gedan Barai\n"
     ]
    },
    {
     "name": "stdout",
     "output_type": "stream",
     "text": "Enter the description of the word ->  Down Block"
    },
    {
     "name": "stdout",
     "output_type": "stream",
     "text": [
      "The answer is Down Block\n",
      "________________________\n",
      "You got 4 answers correct.\n"
     ]
    },
    {
     "name": "stdout",
     "output_type": "stream",
     "text": "Would you like to play again? (Yes/No) no"
    },
    {
     "name": "stdout",
     "output_type": "stream",
     "text": [
      "Thank you for playing!\n"
     ]
    }
   ],
   "source": [
    "import random\n",
    "\n",
    "def shuffleList(list):\n",
    "    random.shuffle(list)\n",
    "    return list\n",
    "\n",
    "karateMoves = {\n",
    "    \"Shizentai\": \"Natural Stance\",\n",
    "    \"Choku-Zuki\": \"Straight Stance\",\n",
    "    \"Oi-Zuki\": \"Front Lunge Punch\",\n",
    "    \"Gyaku-Zuki\": \"Reverse Punch\",\n",
    "    \"Gedan Barai\": \"Down Block\",\n",
    "    \"Age-Uke\": \"Rising Block\",\n",
    "}\n",
    "answer = input(\"Would you like to play? (Yes/No)\")\n",
    "while answer.lower() != \"yes\" and answer.lower() != \"no\":\n",
    "    input(\"That is not a valid answer. Please enter either yes or no. ->\")\n",
    "while answer.lower() == \"yes\":\n",
    "    keyList = list(karateMoves.keys())\n",
    "    shuffleList(keyList)\n",
    "    corrGuesses = 0\n",
    "    for move in keyList:\n",
    "        print(move)\n",
    "        answer = input(\"Enter the description of the word -> \")\n",
    "        print(\"The answer is \" + karateMoves[move])\n",
    "        if(answer == karateMoves[move] ):\n",
    "            corrGuesses += 1\n",
    "            #print(corrGuesses)\n",
    "        else:\n",
    "            print(\"Your answer is incorrect\")\n",
    "        print(\"________________________\")\n",
    "    print(\"You got \" + str(corrGuesses) + \" answers correct.\")\n",
    "    answer2 = input(\"Would you like to play again? (Yes/No)\")\n",
    "    if answer.lower() == \"no\":\n",
    "        break\n",
    "    else:\n",
    "        corrGuesses = 0\n",
    "        continue\n",
    "print(\"Thank you for playing!\")"
   ]
  },
  {
   "cell_type": "code",
   "execution_count": 0,
   "metadata": {
    "collapsed": false
   },
   "outputs": [
   ],
   "source": [
   ]
  },
  {
   "cell_type": "code",
   "execution_count": 0,
   "metadata": {
    "collapsed": false
   },
   "outputs": [
   ],
   "source": [
   ]
  },
  {
   "cell_type": "code",
   "execution_count": 0,
   "metadata": {
    "collapsed": false
   },
   "outputs": [
   ],
   "source": [
   ]
  }
 ],
 "metadata": {
  "colab": {
   "collapsed_sections": [
    "acolMI3gVF8w",
    "EL8bZ5XLVF8z"
   ],
   "name": "FlashKarate!.ipynb",
   "provenance": [
   ]
  },
  "kernelspec": {
   "display_name": "Python 3 (Ubuntu Linux)",
   "language": "python",
   "name": "python3-ubuntu",
   "resource_dir": "/usr/local/share/jupyter/kernels/python3-ubuntu"
  },
  "language_info": {
   "codemirror_mode": {
    "name": "ipython",
    "version": 3
   },
   "file_extension": ".py",
   "mimetype": "text/x-python",
   "name": "python",
   "nbconvert_exporter": "python",
   "pygments_lexer": "ipython3",
   "version": "3.8.10"
  }
 },
 "nbformat": 4,
 "nbformat_minor": 4
}