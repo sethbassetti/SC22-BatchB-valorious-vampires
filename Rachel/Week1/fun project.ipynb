{
 "cells": [
  {
   "cell_type": "code",
   "execution_count": 1,
   "metadata": {
    "cocalc": {
     "outputs": {
      "0": {
       "name": "input",
       "opts": {
        "password": false,
        "prompt": "Enter your phrase:"
       },
       "output_type": "stream",
       "value": "hello world"
      },
      "1": {
       "name": "input",
       "opts": {
        "password": false,
        "prompt": "Enter the number you want to shift by:"
       },
       "output_type": "stream",
       "value": "2"
      }
     }
    },
    "collapsed": false
   },
   "outputs": [
    {
     "name": "stdout",
     "output_type": "stream",
     "text": "Enter your phrase: hello world"
    },
    {
     "name": "stdout",
     "output_type": "stream",
     "text": "Enter the number you want to shift by: 2"
    },
    {
     "name": "stdout",
     "output_type": "stream",
     "text": [
      "jgnnq yqtnf\n"
     ]
    }
   ],
   "source": [
    "alphabet = \"abcdefghijklmnopqrstuvwxyz\"\n",
    "pOne=\"\"\n",
    "pTwo=\"\"\n",
    "newword =\"\"\n",
    "message = input(\"Enter your phrase:\").lower()\n",
    "key = int(input(\"Enter the number you want to shift by:\"))\n",
    "\n",
    "if key == 0:\n",
    "    newword = alphabet\n",
    "elif key >0:\n",
    "    pOne = alphabet[:key]\n",
    "    pTwo = alphabet[key:]\n",
    "    newword = pTwo + pOne\n",
    "else:\n",
    "    pOne = alphabet[:(26 +key)]\n",
    "    PTwo = alphabet[(26 +key):]\n",
    "    newword = pTwo + pOne\n",
    "ciphert = \"\"\n",
    "for message_index in range(0,len(message)):\n",
    "    if message[message_index] == \" \":\n",
    "        ciphert += \" \"\n",
    "    for alphabet_index in range(0,len(newword)):\n",
    "        if message[message_index] == alphabet[alphabet_index]:\n",
    "            ciphert += newword[alphabet_index]\n",
    "print(ciphert)"
   ]
  },
  {
   "cell_type": "code",
   "execution_count": 0,
   "metadata": {
    "collapsed": false
   },
   "outputs": [
   ],
   "source": [
   ]
  }
 ],
 "metadata": {
  "kernelspec": {
   "display_name": "Python 3 (Ubuntu Linux)",
   "language": "python",
   "name": "python3-ubuntu",
   "resource_dir": "/usr/local/share/jupyter/kernels/python3-ubuntu"
  },
  "language_info": {
   "codemirror_mode": {
    "name": "ipython",
    "version": 3
   },
   "file_extension": ".py",
   "mimetype": "text/x-python",
   "name": "python",
   "nbconvert_exporter": "python",
   "pygments_lexer": "ipython3",
   "version": "3.8.10"
  }
 },
 "nbformat": 4,
 "nbformat_minor": 4
}