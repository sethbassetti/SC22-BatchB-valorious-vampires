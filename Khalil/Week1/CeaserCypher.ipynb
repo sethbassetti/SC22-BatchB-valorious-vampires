{
 "cells": [
  {
   "cell_type": "code",
   "execution_count": 13,
   "metadata": {
    "collapsed": false
   },
   "outputs": [
    {
     "data": {
      "text/plain": [
       "97"
      ]
     },
     "execution_count": 13,
     "metadata": {
     },
     "output_type": "execute_result"
    }
   ],
   "source": [
    "ord(\"a\")"
   ]
  },
  {
   "cell_type": "code",
   "execution_count": 3,
   "metadata": {
    "collapsed": false
   },
   "outputs": [
    {
     "data": {
      "text/plain": [
       "'A'"
      ]
     },
     "execution_count": 3,
     "metadata": {
     },
     "output_type": "execute_result"
    }
   ],
   "source": [
    "chr(65)"
   ]
  },
  {
   "cell_type": "code",
   "execution_count": 28,
   "metadata": {
    "cocalc": {
     "outputs": {
      "0": {
       "name": "input",
       "opts": {
        "password": false,
        "prompt": "What is your Message?"
       },
       "output_type": "stream",
       "value": "hello"
      },
      "1": {
       "name": "input",
       "opts": {
        "password": false,
        "prompt": "What is your shift?"
       },
       "output_type": "stream",
       "value": "45"
      }
     }
    },
    "collapsed": false,
    "scrolled": true
   },
   "outputs": [
    {
     "name": "stdout",
     "output_type": "stream",
     "text": "What is your Message? hello"
    },
    {
     "name": "stdout",
     "output_type": "stream",
     "text": "What is your shift? 45"
    },
    {
     "name": "stdout",
     "output_type": "stream",
     "text": [
      "\n",
      "\n",
      "\n",
      "\n",
      "\n"
     ]
    }
   ],
   "source": [
    "msg = input(\"What is your Message?\")\n",
    "shift = input(\"What is your shift?\")\n",
    "for letter in msg:\n",
    "    orig = ord(letter)\n",
    "    print(chr(orig + int(shift)))"
   ]
  },
  {
   "cell_type": "code",
   "execution_count": 41,
   "metadata": {
    "cocalc": {
     "outputs": {
      "0": {
       "name": "input",
       "opts": {
        "password": false,
        "prompt": "What is your Message?"
       },
       "output_type": "stream",
       "value": "hello world"
      },
      "1": {
       "name": "input",
       "opts": {
        "password": false,
        "prompt": "What is your shift?"
       },
       "output_type": "stream",
       "value": "34256"
      }
     }
    },
    "collapsed": false
   },
   "outputs": [
    {
     "name": "stdout",
     "output_type": "stream",
     "text": "What is your Message? hello world"
    },
    {
     "name": "stdout",
     "output_type": "stream",
     "text": "What is your shift? 34256"
    },
    {
     "name": "stdout",
     "output_type": "stream",
     "text": [
      "v\n",
      "s\n",
      "z\n",
      "z\n",
      "c\n",
      " \n",
      "k\n",
      "c\n",
      "f\n",
      "z\n",
      "r\n"
     ]
    }
   ],
   "source": [
    "key = (\"a\", \"b\", \"c\", \"d\", \"e\", \"f\", \"g\", \"h\", \"i\", \"j\", \"k\", \"l\", \"m\", \"n\", \"o\", \"p\", \"q\", \"r\", \"s\", \"t\", \"u\", \"v\", \"w\", \"x\", \"y\", \"z\")\n",
    "msg = input(\"What is your Message?\")\n",
    "shift = int(input(\"What is your shift?\")) % 26\n",
    "for letter in msg:\n",
    "    if letter == \" \":\n",
    "        print(\" \")\n",
    "    else:\n",
    "        test = (int(key.index(letter)) + shift) % 26\n",
    "        print(key[int(test)])"
   ]
  },
  {
   "cell_type": "code",
   "execution_count": 0,
   "metadata": {
    "collapsed": false
   },
   "outputs": [
   ],
   "source": [
   ]
  },
  {
   "cell_type": "code",
   "execution_count": 0,
   "metadata": {
    "collapsed": false
   },
   "outputs": [
   ],
   "source": [
   ]
  },
  {
   "cell_type": "code",
   "execution_count": 0,
   "metadata": {
    "collapsed": false
   },
   "outputs": [
   ],
   "source": [
   ]
  }
 ],
 "metadata": {
  "kernelspec": {
   "display_name": "Python (nlp_env)",
   "language": "python",
   "metadata": {
    "debugger": true
   },
   "name": "nlp_env",
   "resource_dir": "/projects/7a0c9ef7-3361-4399-8d40-1da8ddeb76b0/.local/share/jupyter/kernels/nlp_env"
  }
 },
 "nbformat": 4,
 "nbformat_minor": 4
}