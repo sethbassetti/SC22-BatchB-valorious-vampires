{
 "cells": [
  {
   "cell_type": "markdown",
   "metadata": {
    "collapsed": false,
    "id": "jQu4NqtgVF8l"
   },
   "source": [
    "# Build a Flashcard Game! \n",
    "\n",
    "We will be building a flashcard guessing game where users can guess fighting stances in Karate.\n",
    "\n",
    "> Here are the rules:\n",
    "\n",
    "* The user will be given the name of a fighting stance and will have to guess its definition/description.\n",
    "* Each time the user guesses the description right, the user gets a point.\n",
    "* The game will continue until there are no more stance descriptions left to guess.\n",
    "* After running out of stances, the user will see how many points they earn and will be asked if they want to play again!\n",
    "\n",
    "You can think of this as having the front of the flash card being a fighting stance and the back of the flash card being it's description. Let's get started.\n",
    "\n"
   ]
  },
  {
   "cell_type": "markdown",
   "metadata": {
    "collapsed": false,
    "id": "cuw7LZy3VF8q"
   },
   "source": [
    "## The Stances!\n",
    "\n",
    "Here are the stances:\n",
    "\n",
    "* Shezentai: Natural Stance\n",
    "* Choku-Zuki: Straight Punch\n",
    "* Oi-Zuki: Front Lunge Punch\n",
    "* Gyaku-Zuki: Reverse Punch\n",
    "* Gedan Barai: Down Block\n",
    "* Age-Uke: Rising Block\n",
    "\n",
    "If you're curious here are some photos of the stances. \n",
    "<br>\n",
    "<br>\n",
    "\n",
    "<center />\n",
    "<img src=\"https://globalmartialarts.university/wp-content/uploads/2021/01/Shotokan-Beginners-Guide-Infographic-2.jpg\" width=560 height=660 />\n",
    "\n"
   ]
  },
  {
   "cell_type": "markdown",
   "metadata": {
    "collapsed": false,
    "id": "RHa0Vb_rXjQr"
   },
   "source": [
    "## Some python help\n",
    "\n",
    "Here is some python code that might help you on your journey! Mainly you should have a good idea of how dictionaries function, since they work pretty similar to flashcards.\n",
    "\n"
   ]
  },
  {
   "cell_type": "markdown",
   "metadata": {
    "collapsed": false,
    "id": "yr1mQTCVfmhM"
   },
   "source": [
    "### Dictionaries Review"
   ]
  },
  {
   "cell_type": "code",
   "execution_count": 0,
   "metadata": {
    "collapsed": false,
    "id": "3x-2-EJ4Xi7t"
   },
   "outputs": [
   ],
   "source": [
    "# create a dictionary with key value pairs. I'm just going to use some words and defintions \n",
    "my_dictionary = {\"dog\": \"a domesticated carnivorous mammal that typically has a long snout\",\n",
    "                 \"cat\": \"a small domesticated carnivorous mammal with soft fur\",\n",
    "                 \"bunny\": \"a rabbit, especially a young one.\",\n",
    "                 \"timberwolves\": \"wolves of a large variety found mainly in northern North America, with gray brindled fur.\"\n",
    "                 }"
   ]
  },
  {
   "cell_type": "code",
   "execution_count": 0,
   "metadata": {
    "colab": {
     "base_uri": "https://localhost:8080/"
    },
    "collapsed": false,
    "id": "dzYfo-ciVF8r",
    "outputId": "ffd2aefa-ce80-465b-c86e-eeb4dce7fcd3"
   },
   "outputs": [
    {
     "name": "stdout",
     "output_type": "stream",
     "text": [
      "a dog is... a domesticated carnivorous mammal that typically has a long snout\n"
     ]
    }
   ],
   "source": [
    "# access the value from a dictionary key\n",
    "print(\"a dog is...\", my_dictionary[\"dog\"])"
   ]
  },
  {
   "cell_type": "code",
   "execution_count": 0,
   "metadata": {
    "colab": {
     "base_uri": "https://localhost:8080/"
    },
    "collapsed": false,
    "id": "OZPVqiR8Yzxk",
    "outputId": "4bcfef45-cc37-409b-c87d-76d12e805c8a"
   },
   "outputs": [
    {
     "name": "stdout",
     "output_type": "stream",
     "text": [
      "['dog', 'cat', 'bunny', 'timberwolves']\n"
     ]
    }
   ],
   "source": [
    "#access all of the keys and store as a list\n",
    "animals = list(my_dictionary.keys())\n",
    "print(animals)"
   ]
  },
  {
   "cell_type": "code",
   "execution_count": 0,
   "metadata": {
    "colab": {
     "base_uri": "https://localhost:8080/"
    },
    "collapsed": false,
    "id": "vetkiJW3ea8T",
    "outputId": "88eeccc4-5786-46d4-db6b-335a4347247c"
   },
   "outputs": [
    {
     "name": "stdout",
     "output_type": "stream",
     "text": [
      "dict_values(['a domesticated carnivorous mammal that typically has a long snout', 'a small domesticated carnivorous mammal with soft fur', 'a rabbit, especially a young one.', 'wolves of a large variety found mainly in northern North America, with gray brindled fur.'])\n"
     ]
    }
   ],
   "source": [
    "# print the values of a dictionary\n",
    "print(my_dictionary.values())"
   ]
  },
  {
   "cell_type": "code",
   "execution_count": 0,
   "metadata": {
    "colab": {
     "base_uri": "https://localhost:8080/"
    },
    "collapsed": false,
    "id": "iWans4X-Y9qL",
    "outputId": "ecf572ad-6727-4b73-8495-e5065acac24b",
    "scrolled": true
   },
   "outputs": [
    {
     "name": "stdout",
     "output_type": "stream",
     "text": [
      "dog:  a domesticated carnivorous mammal that typically has a long snout\n",
      "cat:  a small domesticated carnivorous mammal with soft fur\n",
      "bunny:  a rabbit, especially a young one.\n",
      "timberwolves:  wolves of a large variety found mainly in northern North America, with gray brindled fur.\n"
     ]
    }
   ],
   "source": [
    "# you can use these keys to access the dictionary\n",
    "for i in animals:\n",
    "  print(i + \": \", my_dictionary[i])"
   ]
  },
  {
   "cell_type": "code",
   "execution_count": 0,
   "metadata": {
    "collapsed": false
   },
   "outputs": [
   ],
   "source": [
   ]
  },
  {
   "cell_type": "code",
   "execution_count": 27,
   "metadata": {
    "collapsed": false,
    "id": "Dj_Cw7cefe-H"
   },
   "outputs": [
    {
     "name": "stdout",
     "output_type": "stream",
     "text": [
      "['oui', 'non']\n",
      "<built-in method values of dict object at 0x7fab94d4dbc0>\n"
     ]
    }
   ],
   "source": [
    "my_dictionary = {\"oui\": \"yes\",\n",
    "                 \"non\": \"no\"\n",
    "                }\n",
    "words = list(my_dictionary)\n",
    "print(words)\n",
    "print(my_dictionary.values)"
   ]
  },
  {
   "cell_type": "markdown",
   "metadata": {
    "collapsed": false,
    "id": "wDh9B_Prfkgr"
   },
   "source": [
    "### String Formatting\n",
    "Change the code below to see how you can format strings."
   ]
  },
  {
   "cell_type": "code",
   "execution_count": 7,
   "metadata": {
    "colab": {
     "base_uri": "https://localhost:8080/"
    },
    "collapsed": false,
    "id": "nj56EG_0fpHN",
    "outputId": "cbfdf989-708e-4b36-b5f3-8f7760e47c76"
   },
   "outputs": [
    {
     "name": "stdout",
     "output_type": "stream",
     "text": [
      "We are the knights who say \"eggs!\"\n"
     ]
    }
   ],
   "source": [
    "# Basic usage of the str.format() method looks like this:\n",
    "print('We are the {} who say \"{}!\"'.format('knights', 'eggs'))"
   ]
  },
  {
   "cell_type": "code",
   "execution_count": 0,
   "metadata": {
    "collapsed": false,
    "id": "tbZG23SufsPA"
   },
   "outputs": [
   ],
   "source": [
    "# A number in the brackets can be used to refer to the position of the object passed into the str.format() method.\n",
    "print('{0} and {1}'.format('spam', 'eggs'))"
   ]
  },
  {
   "cell_type": "code",
   "execution_count": 0,
   "metadata": {
    "colab": {
     "base_uri": "https://localhost:8080/"
    },
    "collapsed": false,
    "id": "zM8v0k_Wf0hr",
    "outputId": "9b19dcfe-f873-4947-8b8a-8caaf0ff9187"
   },
   "outputs": [
    {
     "name": "stdout",
     "output_type": "stream",
     "text": [
      "eggs and spam\n"
     ]
    }
   ],
   "source": [
    "print('{1} and {0}'.format('spam', 'eggs'))"
   ]
  },
  {
   "cell_type": "code",
   "execution_count": 0,
   "metadata": {
    "colab": {
     "base_uri": "https://localhost:8080/"
    },
    "collapsed": false,
    "id": "WTuHIy5Wf6gg",
    "outputId": "33dc1f68-d3d1-41db-8abb-82fe710cec58"
   },
   "outputs": [
    {
     "name": "stdout",
     "output_type": "stream",
     "text": [
      "This spam is absolutely horrible.\n"
     ]
    }
   ],
   "source": [
    "# If keyword arguments are used in the str.format() method, their values are referred to by using the name of the argument.\n",
    "print('This {food} is {adjective}.'.format(food='spam', adjective='absolutely horrible'))"
   ]
  },
  {
   "cell_type": "code",
   "execution_count": 6,
   "metadata": {
    "collapsed": false
   },
   "outputs": [
    {
     "name": "stdout",
     "output_type": "stream",
     "text": [
      "The cat sat on the hat\n"
     ]
    }
   ],
   "source": [
    "# F-strings can be used for easy string formatting\n",
    "animal = \"cat\"\n",
    "clothing = \"hat\"\n",
    "\n",
    "print(\"The {animal} {'sat'} on the {clothing}\")"
   ]
  },
  {
   "cell_type": "code",
   "execution_count": 0,
   "metadata": {
    "collapsed": false,
    "id": "cVE5APVdfttS"
   },
   "outputs": [
   ],
   "source": [
    "human = \"girl\"\n",
    "clothing = \"coat\"\n",
    "\n",
    "your code here: experiment with string formatting\n",
    "print('The {human} is putting on her {clothing}')"
   ]
  },
  {
   "cell_type": "markdown",
   "metadata": {
    "collapsed": false,
    "id": "HxiI3weuVF8t"
   },
   "source": [
    "## Task 1: Create the Flashcards \n",
    "In this section you should create your flashcards using a dictionary that includes each karate stance (key) and its definition (value).\n",
    "\n",
    "Experiment by using some dictionary functions and save the keys of the dictionary in a list."
   ]
  },
  {
   "cell_type": "code",
   "execution_count": 0,
   "metadata": {
    "collapsed": false,
    "id": "hTUm1rPfVF8t"
   },
   "outputs": [
   ],
   "source": [
    "# create your flashcards with key: Karate Stance and value: description\n",
    "karate_stance = {\"Shezentai\" : \"Natural Stance\",\n",
    "                 \"Choku-Zuki\" : \"Straight Punch\",\n",
    "                 \"Oi-Zuki\": \"Front Lunge Punch\",\n",
    "                 \"Gyaku Zuki\": \"Reverse Punch\",\n",
    "                 \"Gedan Barai\": \"Down Block\",\n",
    "                 \"Age-Uke\": \"Rising Block\"\n",
    "                }"
   ]
  },
  {
   "cell_type": "code",
   "execution_count": 16,
   "metadata": {
    "collapsed": false,
    "id": "wlY-h7eVVF8u"
   },
   "outputs": [
    {
     "name": "stdout",
     "output_type": "stream",
     "text": [
      "Shezentai is... Natural Stance\n",
      "Choku-Zuki is... Straight Punch\n",
      "Oi-Zuki is ... Front Lunge Punch\n",
      "Gyaku Zuki is ... Reverse Punch\n",
      "Gedan Barai is ... Down Block\n",
      "Age-Uke i is ... Rising Block\n"
     ]
    }
   ],
   "source": [
    "# print all the keys in your dictionary\n",
    "\n",
    "karate_stance = {\"Shezentai\" : \"Natural Stance\",\n",
    "                 \"Choku-Zuki\" : \"Straight Punch\",\n",
    "                 \"Oi-Zuki\": \"Front Lunge Punch\",\n",
    "                 \"Gyaku Zuki\": \"Reverse Punch\",\n",
    "                 \"Gedan Barai\": \"Down Block\",\n",
    "                 \"Age-Uke\": \"Rising Block\"\n",
    "                }\n",
    "print(\"Shezentai is...\", karate_stance[\"Shezentai\"])\n",
    "print(\"Choku-Zuki is...\", karate_stance[\"Choku-Zuki\"])\n",
    "print(\"Oi-Zuki is ...\", karate_stance[\"Oi-Zuki\"])\n",
    "print(\"Gyaku Zuki is ...\", karate_stance[\"Gyaku Zuki\"])\n",
    "print(\"Gedan Barai is ...\", karate_stance[\"Gedan Barai\"])\n",
    "print(\"Age-Uke i is ...\", karate_stance[\"Age-Uke\"])\n"
   ]
  },
  {
   "cell_type": "code",
   "execution_count": 15,
   "metadata": {
    "collapsed": false,
    "id": "PyOMxguiVF8v"
   },
   "outputs": [
    {
     "name": "stdout",
     "output_type": "stream",
     "text": [
      "['Shezentai', 'Choku-Zuki', 'Oi-Zuki', 'Gyaku Zuki', 'Gedan Barai', 'Age-Uke']\n"
     ]
    }
   ],
   "source": [
    "#put all of the keys into a list so you have a \"deck\" of flashcards.\n",
    "\n",
    "karate_stance = {\"Shezentai\" : \"Natural Stance\",\n",
    "                 \"Choku-Zuki\" : \"Straight Punch\",\n",
    "                 \"Oi-Zuki\": \"Front Lunge Punch\",\n",
    "                 \"Gyaku Zuki\": \"Reverse Punch\",\n",
    "                 \"Gedan Barai\": \"Down Block\",\n",
    "                 \"Age-Uke\": \"Rising Block\"\n",
    "                }\n",
    "keys = list(karate_stance.keys())\n",
    "print(keys)"
   ]
  },
  {
   "cell_type": "markdown",
   "metadata": {
    "collapsed": false,
    "id": "acolMI3gVF8w"
   },
   "source": [
    "## Task 2: Shuffle the list \n",
    "\n",
    "At this point we have a \"deck\" of flashcards (a list of key values for our dictionary). Now you should do some research on how we can `shuffle()` this deck. \n",
    "\n",
    "We recommend checking out python's [`random` library](https://docs.python.org/3/library/random.html) to see how to shuffle a list! You also could google \"how to shuffle a list python\".\n",
    "\n"
   ]
  },
  {
   "cell_type": "code",
   "execution_count": 19,
   "metadata": {
    "collapsed": false,
    "id": "w-IuZlrVVF8x"
   },
   "outputs": [
    {
     "name": "stdout",
     "output_type": "stream",
     "text": [
      "['Shezentai', 'Age-Uke', 'Choku-Zuki', 'Gyaku Zuki', 'Oi-Zuki', 'Gedan Barai']\n"
     ]
    }
   ],
   "source": [
    "import random\n",
    "karate_stance = {\"Shezentai\" : \"Natural Stance\",\n",
    "                 \"Choku-Zuki\" : \"Straight Punch\",\n",
    "                 \"Oi-Zuki\": \"Front Lunge Punch\",\n",
    "                 \"Gyaku Zuki\": \"Reverse Punch\",\n",
    "                 \"Gedan Barai\": \"Down Block\",\n",
    "                 \"Age-Uke\": \"Rising Block\"\n",
    "                }\n",
    "keys = list(karate_stance.keys())\n",
    "random.shuffle(keys)\n",
    "print(keys)"
   ]
  },
  {
   "cell_type": "markdown",
   "metadata": {
    "collapsed": false,
    "id": "EL8bZ5XLVF8z"
   },
   "source": [
    "## Task 3: Set up the game\n",
    "\n",
    "Now here is where we set up the game!\n",
    "\n",
    "* Create a variable to keep track of how many guesses user has correct\n",
    "* Create a loop that:\n",
    "\n",
    "> 1. Goes through each word in the list of keys and print this word for the user to guess.\n",
    "\n",
    "2. Asks the user to `input` their answer (you might have to look up how to get input from a user in python).\n",
    "3. Checks whether their answer is right, and adds 1 to the variable for correct guesses \n",
    "4. Goes to the next word and repeats steps 1-3.\n",
    "\n",
    "* After the loop, print how many answers the users got correct and how many they got wrong.\n",
    "\n",
    "<br>\n",
    "\n",
    "Note: For repetitive tasks in python, we usually use a `while` or a `for` loop. `While` loops continue executing code in a loop until a certain condition is met, and `for` loops typically are used for iterating across a piece of data. \n",
    "\n",
    "> DISCUSS: Discuss with your team and instructor which type of loop would be better for this case.\n",
    "\n"
   ]
  },
  {
   "cell_type": "code",
   "execution_count": 36,
   "metadata": {
    "cocalc": {
     "outputs": {
      "0": {
       "name": "input",
       "opts": {
        "password": false,
        "prompt": "Define: Oi-Zuki"
       },
       "output_type": "stream",
       "value": "1"
      },
      "1": {
       "name": "input",
       "opts": {
        "password": false,
        "prompt": "ANSWER: "
       },
       "output_type": "stream",
       "value": ""
      },
      "10": {
       "name": "input",
       "opts": {
        "password": false,
        "prompt": "Define: Age-Uke"
       },
       "output_type": "stream",
       "value": "4"
      },
      "11": {
       "name": "input",
       "opts": {
        "password": false,
        "prompt": "ANSWER: "
       },
       "output_type": "stream",
       "value": ""
      },
      "2": {
       "name": "input",
       "opts": {
        "password": false,
        "prompt": "Define: Gedan Barai"
       },
       "output_type": "stream",
       "value": "Down Block"
      },
      "3": {
       "name": "input",
       "opts": {
        "password": false,
        "prompt": "ANSWER: "
       },
       "output_type": "stream",
       "value": ""
      },
      "4": {
       "name": "input",
       "opts": {
        "password": false,
        "prompt": "Define: Choku-Zuki"
       },
       "output_type": "stream",
       "value": "1"
      },
      "5": {
       "name": "input",
       "opts": {
        "password": false,
        "prompt": "ANSWER: "
       },
       "output_type": "stream",
       "value": ""
      },
      "6": {
       "name": "input",
       "opts": {
        "password": false,
        "prompt": "Define: Shezentai"
       },
       "output_type": "stream",
       "value": "2"
      },
      "7": {
       "name": "input",
       "opts": {
        "password": false,
        "prompt": "ANSWER: "
       },
       "output_type": "stream",
       "value": ""
      },
      "8": {
       "name": "input",
       "opts": {
        "password": false,
        "prompt": "Define: Gyaku Zuki"
       },
       "output_type": "stream",
       "value": "3"
      },
      "9": {
       "name": "input",
       "opts": {
        "password": false,
        "prompt": "ANSWER: "
       },
       "output_type": "stream",
       "value": ""
      }
     }
    },
    "collapsed": false,
    "id": "LAIfkxd4VF80"
   },
   "outputs": [
    {
     "name": "stdout",
     "output_type": "stream",
     "text": "Define: Oi-Zuki 1"
    },
    {
     "name": "stdout",
     "output_type": "stream",
     "text": "ANSWER:  "
    },
    {
     "name": "stdout",
     "output_type": "stream",
     "text": "Define: Gedan Barai Down Block"
    },
    {
     "name": "stdout",
     "output_type": "stream",
     "text": "ANSWER:  "
    },
    {
     "name": "stdout",
     "output_type": "stream",
     "text": "Define: Choku-Zuki 1"
    },
    {
     "name": "stdout",
     "output_type": "stream",
     "text": "ANSWER:  "
    },
    {
     "name": "stdout",
     "output_type": "stream",
     "text": "Define: Shezentai 2"
    },
    {
     "name": "stdout",
     "output_type": "stream",
     "text": "ANSWER:  "
    },
    {
     "name": "stdout",
     "output_type": "stream",
     "text": "Define: Gyaku Zuki 3"
    },
    {
     "name": "stdout",
     "output_type": "stream",
     "text": "ANSWER:  "
    },
    {
     "name": "stdout",
     "output_type": "stream",
     "text": "Define: Age-Uke 4"
    },
    {
     "name": "stdout",
     "output_type": "stream",
     "text": "ANSWER:  "
    }
   ],
   "source": [
    "import random\n",
    "karate_stance = {\"Shezentai\" : \"Natural Stance\",\n",
    "                 \"Choku-Zuki\" : \"Straight Punch\",\n",
    "                 \"Oi-Zuki\": \"Front Lunge Punch\",\n",
    "                 \"Gyaku Zuki\": \"Reverse Punch\",\n",
    "                 \"Gedan Barai\": \"Down Block\",\n",
    "                 \"Age-Uke\": \"Rising Block\"\n",
    "                }\n",
    "keys = list(karate_stance.keys())\n",
    "random.shuffle(keys)\n",
    "#Set variable for correct guesses\n",
    "c = 0\n",
    "i = 0\n",
    "#Create a loop that iterates through the list of keys\n",
    "for i in keys:\n",
    "    a = input(\"Define: \" + i)\n",
    "    #inside loop: print the word for the user to guess the description of and get the user's guess for it's description.\n",
    "\n",
    "    \n",
    "    #print the actual description of the word.\n",
    "    print(karate_stance[i])\n",
    "    #if the user is correct, let them know and add 1 point to their correct guesses.\n",
    "    if karate_stance[i] == a:\n",
    "        print(\"You were correct!\")\n",
    "        c = c + 1\n",
    "    #otherwise, let the user know they are wrong and don't add any points to their correct guesses \n",
    "    else:\n",
    "        print(\"You were incorrect!\")\n",
    "    #after each round print a line separator by uncommenting the following line (already done lmao)\n",
    "    print('_'*25)   \n",
    "# tell the user how many they had correct out of total\n",
    "print(\"You got \" + str(c) + \"  out of 6 correct!\")"
   ]
  },
  {
   "cell_type": "markdown",
   "metadata": {
    "collapsed": false,
    "id": "mYVCZ2RKVF80"
   },
   "source": [
    "## Task 4: Put everything together. \n",
    "\n",
    "Create an outer loop to ask the user if they want to play the game. If the answer is yes, keep running the program. Keep doing this until they enter something other than yes. \n",
    "\n",
    "Consolidate all of your other code inside of this loop!\n",
    "\n"
   ]
  },
  {
   "cell_type": "code",
   "execution_count": 33,
   "metadata": {
    "cocalc": {
     "outputs": {
      "0": {
       "name": "input",
       "opts": {
        "password": false,
        "prompt": "Play game? ('y' to continue) "
       },
       "output_type": "stream",
       "value": ""
      },
      "10": {
       "name": "input",
       "opts": {
        "password": false,
        "prompt": "ANSWER: "
       },
       "output_type": "stream",
       "value": "d"
      },
      "12": {
       "name": "input",
       "opts": {
        "password": false,
        "prompt": "ANSWER: "
       },
       "output_type": "stream",
       "value": "f"
      },
      "14": {
       "name": "input",
       "opts": {
        "password": false,
        "prompt": "Play again? ('y' to continue) "
       },
       "output_type": "stream",
       "value": "n"
      },
      "2": {
       "name": "input",
       "opts": {
        "password": false,
        "prompt": "ANSWER: "
       },
       "output_type": "stream",
       "value": "d"
      },
      "4": {
       "name": "input",
       "opts": {
        "password": false,
        "prompt": "ANSWER: "
       },
       "output_type": "stream",
       "value": "a"
      },
      "6": {
       "name": "input",
       "opts": {
        "password": false,
        "prompt": "ANSWER: "
       },
       "output_type": "stream",
       "value": "f"
      },
      "8": {
       "name": "input",
       "opts": {
        "password": false,
        "prompt": "ANSWER: "
       },
       "output_type": "stream",
       "value": "a"
      }
     }
    },
    "collapsed": false,
    "id": "unJkdlnQVF81"
   },
   "outputs": [
   ],
   "source": [
    "# imports\n",
    "\n",
    "\n",
    "#ask user if they want to play\n",
    "\n",
    "#if the user's answer is yes or still yes, play the game again\n",
    "\n",
    "    # create dictionary of key/pairs (copy code from task 1)\n",
    "\n",
    "    #turns dictionary keys into a list (copy code from task 1)\n",
    "\n",
    "    #shuffle list (copy code from task 2)\n",
    "\n",
    "    #play a round of the game (copy code from task 3)\n",
    "\n",
    "    # final score\n",
    "\n",
    "    # ask user to play again and get their input. If they say yes, play again. Otherwise, exit the loop!\n",
    "\n",
    "\n",
    "#When the user is done playing, tell them thanks with a print statement below!"
   ]
  },
  {
   "cell_type": "code",
   "execution_count": 51,
   "metadata": {
    "cocalc": {
     "outputs": {
      "0": {
       "name": "input",
       "opts": {
        "password": false,
        "prompt": "Would you like to play? Y/N"
       },
       "output_type": "stream",
       "value": "Y"
      },
      "1": {
       "name": "input",
       "opts": {
        "password": false,
        "prompt": "Define: Oi-Zuki"
       },
       "output_type": "stream",
       "value": "n"
      },
      "3": {
       "name": "input",
       "opts": {
        "password": false,
        "prompt": "Define: Gyaku Zuki"
       },
       "output_type": "stream",
       "value": "n"
      },
      "5": {
       "name": "input",
       "opts": {
        "password": false,
        "prompt": "Define: Choku-Zuki"
       },
       "output_type": "stream",
       "value": "n"
      },
      "6": {
       "name": "input",
       "opts": {
        "password": false,
        "prompt": "Define: Gedan Barai"
       },
       "output_type": "stream"
      }
     }
    },
    "collapsed": false
   },
   "outputs": [
    {
     "name": "stdout",
     "output_type": "stream",
     "text": "Would you like to play? Y/N Y"
    },
    {
     "name": "stdout",
     "output_type": "stream",
     "text": "Define: Oi-Zuki n"
    },
    {
     "name": "stdout",
     "output_type": "stream",
     "text": [
      "Front Lunge Punch\n",
      "You were incorrect!\n",
      "_________________________\n"
     ]
    },
    {
     "name": "stdout",
     "output_type": "stream",
     "text": "Define: Gyaku Zuki n"
    },
    {
     "name": "stdout",
     "output_type": "stream",
     "text": [
      "Reverse Punch\n",
      "You were incorrect!\n",
      "_________________________\n"
     ]
    },
    {
     "name": "stdout",
     "output_type": "stream",
     "text": "Define: Choku-Zuki n"
    },
    {
     "name": "stdout",
     "output_type": "stream",
     "text": "Define: Gedan Barai "
    },
    {
     "name": "stdout",
     "output_type": "stream",
     "text": [
      "Straight Punch\n",
      "You were incorrect!\n",
      "_________________________\n"
     ]
    },
    {
     "ename": "KeyboardInterrupt",
     "evalue": "Interrupted by user",
     "output_type": "error",
     "traceback": [
      "\u001b[0;31m---------------------------------------------------------------------------\u001b[0m",
      "\u001b[0;31mKeyboardInterrupt\u001b[0m                         Traceback (most recent call last)",
      "\u001b[0;32m<ipython-input-51-9546f82ea1c7>\u001b[0m in \u001b[0;36m<module>\u001b[0;34m\u001b[0m\n\u001b[1;32m     16\u001b[0m             \u001b[0mi\u001b[0m \u001b[0;34m=\u001b[0m \u001b[0;36m0\u001b[0m\u001b[0;34m\u001b[0m\u001b[0;34m\u001b[0m\u001b[0m\n\u001b[1;32m     17\u001b[0m             \u001b[0;32mfor\u001b[0m \u001b[0mi\u001b[0m \u001b[0;32min\u001b[0m \u001b[0mkeys\u001b[0m\u001b[0;34m:\u001b[0m\u001b[0;34m\u001b[0m\u001b[0;34m\u001b[0m\u001b[0m\n\u001b[0;32m---> 18\u001b[0;31m                 \u001b[0ma\u001b[0m \u001b[0;34m=\u001b[0m \u001b[0minput\u001b[0m\u001b[0;34m(\u001b[0m\u001b[0;34m\"Define: \"\u001b[0m \u001b[0;34m+\u001b[0m \u001b[0mi\u001b[0m\u001b[0;34m)\u001b[0m\u001b[0;34m\u001b[0m\u001b[0;34m\u001b[0m\u001b[0m\n\u001b[0m\u001b[1;32m     19\u001b[0m                 \u001b[0mprint\u001b[0m\u001b[0;34m(\u001b[0m\u001b[0mkarate_stance\u001b[0m\u001b[0;34m[\u001b[0m\u001b[0mi\u001b[0m\u001b[0;34m]\u001b[0m\u001b[0;34m)\u001b[0m\u001b[0;34m\u001b[0m\u001b[0;34m\u001b[0m\u001b[0m\n\u001b[1;32m     20\u001b[0m                 \u001b[0;32mif\u001b[0m \u001b[0mkarate_stance\u001b[0m\u001b[0;34m[\u001b[0m\u001b[0mi\u001b[0m\u001b[0;34m]\u001b[0m \u001b[0;34m==\u001b[0m \u001b[0ma\u001b[0m\u001b[0;34m:\u001b[0m\u001b[0;34m\u001b[0m\u001b[0;34m\u001b[0m\u001b[0m\n",
      "\u001b[0;32m/usr/lib/python3/dist-packages/ipykernel/kernelbase.py\u001b[0m in \u001b[0;36mraw_input\u001b[0;34m(self, prompt)\u001b[0m\n\u001b[1;32m    858\u001b[0m                 \u001b[0;34m\"raw_input was called, but this frontend does not support input requests.\"\u001b[0m\u001b[0;34m\u001b[0m\u001b[0;34m\u001b[0m\u001b[0m\n\u001b[1;32m    859\u001b[0m             )\n\u001b[0;32m--> 860\u001b[0;31m         return self._input_request(str(prompt),\n\u001b[0m\u001b[1;32m    861\u001b[0m             \u001b[0mself\u001b[0m\u001b[0;34m.\u001b[0m\u001b[0m_parent_ident\u001b[0m\u001b[0;34m,\u001b[0m\u001b[0;34m\u001b[0m\u001b[0;34m\u001b[0m\u001b[0m\n\u001b[1;32m    862\u001b[0m             \u001b[0mself\u001b[0m\u001b[0;34m.\u001b[0m\u001b[0m_parent_header\u001b[0m\u001b[0;34m,\u001b[0m\u001b[0;34m\u001b[0m\u001b[0;34m\u001b[0m\u001b[0m\n",
      "\u001b[0;32m/usr/lib/python3/dist-packages/ipykernel/kernelbase.py\u001b[0m in \u001b[0;36m_input_request\u001b[0;34m(self, prompt, ident, parent, password)\u001b[0m\n\u001b[1;32m    891\u001b[0m             \u001b[0;32mexcept\u001b[0m \u001b[0mKeyboardInterrupt\u001b[0m\u001b[0;34m:\u001b[0m\u001b[0;34m\u001b[0m\u001b[0;34m\u001b[0m\u001b[0m\n\u001b[1;32m    892\u001b[0m                 \u001b[0;31m# re-raise KeyboardInterrupt, to truncate traceback\u001b[0m\u001b[0;34m\u001b[0m\u001b[0;34m\u001b[0m\u001b[0;34m\u001b[0m\u001b[0m\n\u001b[0;32m--> 893\u001b[0;31m                 \u001b[0;32mraise\u001b[0m \u001b[0mKeyboardInterrupt\u001b[0m\u001b[0;34m(\u001b[0m\u001b[0;34m\"Interrupted by user\"\u001b[0m\u001b[0;34m)\u001b[0m \u001b[0;32mfrom\u001b[0m \u001b[0;32mNone\u001b[0m\u001b[0;34m\u001b[0m\u001b[0;34m\u001b[0m\u001b[0m\n\u001b[0m\u001b[1;32m    894\u001b[0m             \u001b[0;32melse\u001b[0m\u001b[0;34m:\u001b[0m\u001b[0;34m\u001b[0m\u001b[0;34m\u001b[0m\u001b[0m\n\u001b[1;32m    895\u001b[0m                 \u001b[0;32mbreak\u001b[0m\u001b[0;34m\u001b[0m\u001b[0;34m\u001b[0m\u001b[0m\n",
      "\u001b[0;31mKeyboardInterrupt\u001b[0m: Interrupted by user"
     ]
    }
   ],
   "source": [
    "import random\n",
    "karate_stance = {\"Shezentai\" : \"Natural Stance\",\n",
    "                 \"Choku-Zuki\" : \"Straight Punch\",\n",
    "                 \"Oi-Zuki\": \"Front Lunge Punch\",\n",
    "                 \"Gyaku Zuki\": \"Reverse Punch\",\n",
    "                 \"Gedan Barai\": \"Down Block\",\n",
    "                 \"Age-Uke\": \"Rising Block\"\n",
    "                }\n",
    "x = 1\n",
    "while x == 1:\n",
    "    keys = list(karate_stance.keys())\n",
    "    random.shuffle(keys)\n",
    "    z = input(\"Would you like to play? Y/N\")\n",
    "    if z == \"Y\":\n",
    "            c = 0\n",
    "            i = 0\n",
    "            for i in keys:\n",
    "                a = input(\"Define: \" + i)\n",
    "                print(karate_stance[i])\n",
    "                if karate_stance[i] == a:\n",
    "                    print(\"You were correct!\")\n",
    "                    c = c + 1\n",
    "                else:\n",
    "                    print(\"You were incorrect!\")\n",
    "                print('_'*25)   \n",
    "            print(\"You got \" + str(c) + \" out of 6 correct!\")\n",
    "    else:\n",
    "        print(\"Thanks for playing!\")"
   ]
  }
 ],
 "metadata": {
  "colab": {
   "collapsed_sections": [
    "acolMI3gVF8w",
    "EL8bZ5XLVF8z"
   ],
   "name": "FlashKarate!.ipynb",
   "provenance": [
   ]
  },
  "kernelspec": {
   "display_name": "Python 3 (Ubuntu Linux)",
   "language": "python",
   "name": "python3-ubuntu",
   "resource_dir": "/usr/local/share/jupyter/kernels/python3-ubuntu"
  },
  "language_info": {
   "codemirror_mode": {
    "name": "ipython",
    "version": 3
   },
   "file_extension": ".py",
   "mimetype": "text/x-python",
   "name": "python",
   "nbconvert_exporter": "python",
   "pygments_lexer": "ipython3",
   "version": "3.8.10"
  }
 },
 "nbformat": 4,
 "nbformat_minor": 4
}