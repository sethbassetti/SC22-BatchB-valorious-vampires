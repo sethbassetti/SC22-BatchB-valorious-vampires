{
 "cells": [
  {
   "cell_type": "code",
   "execution_count": 33,
   "metadata": {
    "cocalc": {
     "outputs": {
      "0": {
       "name": "input",
       "opts": {
        "password": false,
        "prompt": "Enter a word: "
       },
       "output_type": "stream",
       "value": "rsgrwgerg"
      },
      "1": {
       "name": "input",
       "opts": {
        "password": false,
        "prompt": "Enter a sequence: "
       },
       "output_type": "stream",
       "value": "2"
      },
      "2": {
       "name": "input",
       "opts": {
        "password": false,
        "prompt": "Press 1 to encode the word and 2 to decode the word: "
       },
       "output_type": "stream",
       "value": "2"
      }
     }
    },
    "collapsed": false,
    "scrolled": true
   },
   "outputs": [
    {
     "name": "stdout",
     "output_type": "stream",
     "text": "Enter a word:  rsgrwgerg"
    },
    {
     "name": "stdout",
     "output_type": "stream",
     "text": "Enter a sequence:  2"
    },
    {
     "name": "stdout",
     "output_type": "stream",
     "text": "Press 1 to encode the word and 2 to decode the word:  2"
    },
    {
     "name": "stdout",
     "output_type": "stream",
     "text": [
      "pqepuecpe\n"
     ]
    }
   ],
   "source": [
    "alph = \"abcdefghijklmnopqrstuvwxyz\"\n",
    "\n",
    "def encode(word, seq):\n",
    "    newString = \"\"\n",
    "    position = 0\n",
    "    for i in range(len(word)):\n",
    "        letter = (word[i]).lower() #first letter of word\n",
    "        position = (alph.index(letter)) + int(seq) #position of new seq letter in alph\n",
    "        #print(position)\n",
    "        if(position > 25): #index over 26...(error)\n",
    "            position %= 26\n",
    "        newString += alph[position] #adding letter in alph of new seq position to newString\n",
    "        #print(newString)\n",
    "    return newString\n",
    "\n",
    "def decode(word, seq):\n",
    "    newString = \"\"\n",
    "    for i in range(len(word)):\n",
    "        letter = (word[i]).lower() #first letter of word\n",
    "        position = (alph.index(letter)) - int(seq) #position of new letter minus seq in alph\n",
    "        #print(position)\n",
    "        if(position < 0): #index below 0..(error)\n",
    "            position %= 26\n",
    "        newString += alph[position] #adding letter in alph of new seq position to newString\n",
    "        #print(newString)\n",
    "    return newString\n",
    "\n",
    "\n",
    "def main():\n",
    "    x = input(\"Enter a word: \")\n",
    "    y = input(\"Enter a sequence: \")\n",
    "    w = input(\"Press 1 to encode the word or 2 to decode the word: \")\n",
    "    if( int(w) == 1):\n",
    "        result = encode(x,y)\n",
    "        print(result)\n",
    "    elif( int(w) == 2):\n",
    "        result = decode(x,y)\n",
    "        print(result)\n",
    "\n",
    "main()"
   ]
  },
  {
   "cell_type": "code",
   "execution_count": 0,
   "metadata": {
    "collapsed": false
   },
   "outputs": [
   ],
   "source": [
   ]
  },
  {
   "cell_type": "code",
   "execution_count": 0,
   "metadata": {
    "collapsed": false
   },
   "outputs": [
   ],
   "source": [
   ]
  },
  {
   "cell_type": "code",
   "execution_count": 0,
   "metadata": {
    "collapsed": false
   },
   "outputs": [
   ],
   "source": [
   ]
  },
  {
   "cell_type": "code",
   "execution_count": 0,
   "metadata": {
    "collapsed": false
   },
   "outputs": [
   ],
   "source": [
   ]
  }
 ],
 "metadata": {
  "kernelspec": {
   "display_name": "Python (nlp_env)",
   "language": "python",
   "metadata": {
    "debugger": true
   },
   "name": "nlp_env",
   "resource_dir": "/projects/7a0c9ef7-3361-4399-8d40-1da8ddeb76b0/.local/share/jupyter/kernels/nlp_env"
  }
 },
 "nbformat": 4,
 "nbformat_minor": 4
}