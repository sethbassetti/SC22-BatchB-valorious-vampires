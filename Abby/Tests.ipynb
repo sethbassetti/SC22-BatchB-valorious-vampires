{
 "cells": [
  {
   "cell_type": "code",
   "execution_count": 0,
   "metadata": {
    "collapsed": false
   },
   "outputs": [
   ],
   "source": [
    "Multiplication Tables"
   ]
  },
  {
   "cell_type": "code",
   "execution_count": 46,
   "metadata": {
    "cocalc": {
     "outputs": {
      "1": {
       "name": "input",
       "opts": {
        "password": false,
        "prompt": "Answer?"
       },
       "output_type": "stream",
       "value": "81"
      },
      "11": {
       "name": "input",
       "opts": {
        "password": false,
        "prompt": "Answer?"
       },
       "output_type": "stream",
       "value": "18"
      },
      "13": {
       "name": "input",
       "opts": {
        "password": false,
        "prompt": "Answer?"
       },
       "output_type": "stream",
       "value": "7"
      },
      "15": {
       "name": "input",
       "opts": {
        "password": false,
        "prompt": "Answer?"
       },
       "output_type": "stream",
       "value": "7"
      },
      "16": {
       "name": "input",
       "opts": {
        "password": false,
        "prompt": "Answer?"
       },
       "output_type": "stream"
      },
      "19": {
       "name": "input",
       "opts": {
        "password": false,
        "prompt": "Answer?"
       },
       "output_type": "stream",
       "value": "18"
      },
      "2": {
       "name": "input",
       "opts": {
        "password": false,
        "prompt": "Answer?"
       },
       "output_type": "stream"
      },
      "21": {
       "name": "input",
       "opts": {
        "password": false,
        "prompt": "Would you like to play again? Y/N"
       },
       "output_type": "stream",
       "value": "Y"
      },
      "23": {
       "name": "input",
       "opts": {
        "password": false,
        "prompt": "Answer?"
       },
       "output_type": "stream",
       "value": "0"
      },
      "25": {
       "name": "input",
       "opts": {
        "password": false,
        "prompt": "Answer?"
       },
       "output_type": "stream"
      },
      "5": {
       "name": "input",
       "opts": {
        "password": false,
        "prompt": "Answer?"
       },
       "output_type": "stream",
       "value": "54"
      },
      "7": {
       "name": "input",
       "opts": {
        "password": false,
        "prompt": "Answer?"
       },
       "output_type": "stream",
       "value": "0"
      },
      "9": {
       "name": "input",
       "opts": {
        "password": false,
        "prompt": "Answer?"
       },
       "output_type": "stream",
       "value": "4"
      }
     }
    },
    "collapsed": false,
    "editable": false,
    "scrolled": true
   },
   "outputs": [
    {
     "name": "stdout",
     "output_type": "stream",
     "text": [
      "Welcome to the multiplication tables!\n",
      "What is 9  times  9 ?\n"
     ]
    },
    {
     "name": "stdout",
     "output_type": "stream",
     "text": "Answer? 81"
    },
    {
     "name": "stdout",
     "output_type": "stream",
     "text": "Answer? "
    },
    {
     "name": "stdout",
     "output_type": "stream",
     "text": [
      "Too slow!\n",
      "_________________________\n",
      "What times 3  is  12 ?\n"
     ],
     "value": "36"
    },
    {
     "name": "stdout",
     "output_type": "stream",
     "text": [
      "You guessed incorrectly!\n",
      "_________________________\n",
      "What is 9  times  6 ?\n"
     ]
    },
    {
     "name": "stdout",
     "output_type": "stream",
     "text": "Answer? 54"
    },
    {
     "name": "stdout",
     "output_type": "stream",
     "text": [
      "Too slow!\n",
      "_________________________\n",
      "What is 0  times  2 ?\n"
     ]
    },
    {
     "name": "stdout",
     "output_type": "stream",
     "text": "Answer? 0"
    },
    {
     "name": "stdout",
     "output_type": "stream",
     "text": [
      "You guessed correctly!\n",
      "_________________________\n",
      "What is 1  times  4 ?\n"
     ]
    },
    {
     "name": "stdout",
     "output_type": "stream",
     "text": "Answer? 4"
    },
    {
     "name": "stdout",
     "output_type": "stream",
     "text": [
      "You guessed correctly!\n",
      "_________________________\n",
      "What is 2  times  9 ?\n"
     ]
    },
    {
     "name": "stdout",
     "output_type": "stream",
     "text": "Answer? 18"
    },
    {
     "name": "stdout",
     "output_type": "stream",
     "text": [
      "Too slow!\n",
      "_________________________\n",
      "What is 7  times  1 ?\n"
     ]
    },
    {
     "name": "stdout",
     "output_type": "stream",
     "text": "Answer? 7"
    },
    {
     "name": "stdout",
     "output_type": "stream",
     "text": [
      "Too slow!\n",
      "_________________________\n",
      "What times 6  is  12 ?\n"
     ]
    },
    {
     "name": "stdout",
     "output_type": "stream",
     "text": "Answer? 7"
    },
    {
     "name": "stdout",
     "output_type": "stream",
     "text": "Answer? "
    },
    {
     "name": "stdout",
     "output_type": "stream",
     "text": [
      "You guessed incorrectly!\n",
      "_________________________\n",
      "What is 7  times  1 ?\n"
     ],
     "value": "7"
    },
    {
     "name": "stdout",
     "output_type": "stream",
     "text": [
      "You guessed correctly!\n",
      "_________________________\n",
      "What is 9  times  2 ?\n"
     ]
    },
    {
     "name": "stdout",
     "output_type": "stream",
     "text": "Answer? 18"
    },
    {
     "name": "stdout",
     "output_type": "stream",
     "text": [
      "You guessed correctly!\n",
      "_________________________\n",
      "You got  4  out of 10 correct!\n"
     ]
    },
    {
     "name": "stdout",
     "output_type": "stream",
     "text": "Would you like to play again? Y/N Y"
    },
    {
     "name": "stdout",
     "output_type": "stream",
     "text": [
      "Welcome to the multiplication tables!\n",
      "What is 6  times  10 ?\n"
     ]
    },
    {
     "name": "stdout",
     "output_type": "stream",
     "text": "Answer? 0"
    },
    {
     "name": "stdout",
     "output_type": "stream",
     "text": [
      "Too slow!\n",
      "_________________________\n",
      "What is 10  times  4 ?\n"
     ]
    },
    {
     "name": "stdout",
     "output_type": "stream",
     "text": "Answer? "
    }
   ],
   "source": [
    "#i got distracted and started doing a random project because i want to practice using loops and randoms better\n",
    "\n",
    "import time\n",
    "import random\n",
    "r = 1\n",
    "while r == 1:\n",
    "    a = 0 #a is the value representing if the user will be doing a*b=? or a*?=c\n",
    "    x = 0 #the number being guessed\n",
    "    y = 0 #number 1\n",
    "    z = 0 #number 2\n",
    "    c = 0 #correct number\n",
    "    i = 0 #the number of times this has been played\n",
    "    s = 0 #score\n",
    "    print(\"Welcome to the multiplication tables!\")\n",
    "    while i < 10: #limits to 10 tries\n",
    "        x = random.randrange(2)\n",
    "        if x == 0: #ab?\n",
    "            y = random.randrange(11)\n",
    "            z = random.randrange(11)\n",
    "            c = y*z\n",
    "            print(\"What is\", y, \" times \", z, \"?\")\n",
    "            t1 = time.time()\n",
    "            g = input(\"Answer?\")\n",
    "            t2 = time.time()\n",
    "            t = t2 - t1\n",
    "            g = int(g)\n",
    "            if t > 5:\n",
    "                print(\"Too slow!\")\n",
    "            elif c == g:\n",
    "                print(\"You guessed correctly!\")\n",
    "                s = s + 1\n",
    "            else:\n",
    "                print(\"You guessed incorrectly!\")\n",
    "        else: #a?c\n",
    "            y = random.randrange(11)\n",
    "            c = random.randrange(11)\n",
    "            z = y * c\n",
    "            print(\"What times\", y, \" is \", z, \"?\")\n",
    "            t1 = time.time()\n",
    "            g = input(\"Answer?\")\n",
    "            t2 = time.time()\n",
    "            g = int(g)\n",
    "            t = t2 - t1\n",
    "            if t > 5:\n",
    "                print(\"Too slow!\")\n",
    "            elif c == g:\n",
    "                print(\"You guessed correctly!\")\n",
    "                s = s + 1\n",
    "            else:\n",
    "                print(\"You guessed incorrectly!\")\n",
    "        print('_'*25)\n",
    "        i = i + 1\n",
    "    print(\"You got \", s, \" out of 10 correct!\")\n",
    "    s = input(\"Would you like to play again? Y/N\")\n",
    "    if s == \"N\":\n",
    "        \"Goodbye!\"\n",
    "        r == 0"
   ]
  },
  {
   "cell_type": "code",
   "execution_count": 0,
   "metadata": {
    "collapsed": false
   },
   "outputs": [
   ],
   "source": [
    "Blackjack"
   ]
  }
 ],
 "metadata": {
  "kernelspec": {
   "display_name": "Python (nlp_env)",
   "language": "python",
   "metadata": {
    "debugger": true
   },
   "name": "nlp_env",
   "resource_dir": "/projects/7a0c9ef7-3361-4399-8d40-1da8ddeb76b0/.local/share/jupyter/kernels/nlp_env"
  },
  "language_info": {
   "codemirror_mode": {
    "name": "ipython",
    "version": 3
   },
   "file_extension": ".py",
   "mimetype": "text/x-python",
   "name": "python",
   "nbconvert_exporter": "python",
   "pygments_lexer": "ipython3",
   "version": "3.8.13"
  }
 },
 "nbformat": 4,
 "nbformat_minor": 4
}